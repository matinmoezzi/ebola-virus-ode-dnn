{
  "nbformat": 4,
  "nbformat_minor": 0,
  "metadata": {
    "colab": {
      "name": "ODE with NN",
      "provenance": [],
      "collapsed_sections": [],
      "authorship_tag": "ABX9TyMrb1AFkNPvm6P8eGgFESRM",
      "include_colab_link": true
    },
    "kernelspec": {
      "name": "python3",
      "display_name": "Python 3"
    },
    "accelerator": "GPU"
  },
  "cells": [
    {
      "cell_type": "markdown",
      "metadata": {
        "id": "view-in-github",
        "colab_type": "text"
      },
      "source": [
        "<a href=\"https://colab.research.google.com/github/matinmoezzi/ebola-virus-ode-dnn/blob/main/solve%20ODE%20using%20Lagaris%20NN%20Method.ipynb\" target=\"_parent\"><img src=\"https://colab.research.google.com/assets/colab-badge.svg\" alt=\"Open In Colab\"/></a>"
      ]
    },
    {
      "cell_type": "code",
      "metadata": {
        "id": "Pdlr4C2j4Xm6"
      },
      "source": [
        "import jax.numpy as np\n",
        "from jax import random, grad, vmap, jit"
      ],
      "execution_count": null,
      "outputs": []
    },
    {
      "cell_type": "code",
      "metadata": {
        "id": "9HjD1O5P4aNx"
      },
      "source": [
        "def sigmoid(x):\n",
        "    return 1./(1. + np.exp(-x))\n",
        "\n",
        "def f(params, x):\n",
        "    w0 = params[:10]\n",
        "    b0 = params[10:20]\n",
        "    w1 = params[20:30]\n",
        "    b1 = params[30]\n",
        "    x = sigmoid(x*w0 + b0)\n",
        "    x = sigmoid(np.sum(x*w1) + b1)\n",
        "    return x"
      ],
      "execution_count": null,
      "outputs": []
    },
    {
      "cell_type": "code",
      "metadata": {
        "id": "A9cWjWkV_rfD"
      },
      "source": [
        "@jit\n",
        "def loss(params, inputs):\n",
        "    eq = dfdx_vect(params, inputs) + 2.*inputs*f_vect(params, inputs)\n",
        "    ic = f(params, 0.) - 1.\n",
        "    return np.mean(eq**2) + ic**2\n",
        "\n",
        "@jit\n",
        "def loss2(params, inputs):\n",
        "  eq = d2f_vect(params, inputs) + dfdx_vect(params, inputs)\n",
        "  ic1 = f(params, 0.) - 2.\n",
        "  ic2 = dfdx(params, 0.) - 3.\n",
        "  return np.mean(eq**2) + ic1**2 + ic2**2\n",
        "\n"
      ],
      "execution_count": null,
      "outputs": []
    },
    {
      "cell_type": "code",
      "metadata": {
        "id": "Dh2hmDDZ8rPQ"
      },
      "source": [
        "params=random.normal(random.PRNGKey(0), shape=(31,))\n",
        "dfdx = grad(f, 1)\n",
        "d2f = grad(dfdx, 1)\n",
        "f_vect = vmap(f, (None, 0))\n",
        "dfdx_vect = vmap(dfdx, (None, 0))\n",
        "d2f_vect = vmap(d2f, (None, 0))\n",
        "grad_loss = jit(grad(loss, 0))"
      ],
      "execution_count": null,
      "outputs": []
    },
    {
      "cell_type": "code",
      "metadata": {
        "id": "lvCGNQ9t8nkO"
      },
      "source": [
        "inputs = np.linspace(-2., 2., num=401)"
      ],
      "execution_count": null,
      "outputs": []
    },
    {
      "cell_type": "code",
      "metadata": {
        "id": "CsBKMrCm6izM",
        "colab": {
          "base_uri": "https://localhost:8080/"
        },
        "outputId": "d5f4719a-512a-403e-a7e8-135d1219b727"
      },
      "source": [
        "epochs = 1000\n",
        "learning_rate = 0.1\n",
        "momentum = 0.99\n",
        "velocity = 0.\n",
        "\n",
        "for epoch in range(epochs):\n",
        "    if epoch % 100 == 0:\n",
        "        print('epoch: %3d loss: %.6f' % (epoch, loss(params, inputs)))\n",
        "    gradient = grad_loss(params + momentum*velocity, inputs)\n",
        "    velocity = momentum*velocity - learning_rate*gradient\n",
        "    params += velocity"
      ],
      "execution_count": null,
      "outputs": [
        {
          "output_type": "stream",
          "text": [
            "epoch:   0 loss: 0.954726\n",
            "epoch: 100 loss: 0.061131\n",
            "epoch: 200 loss: 0.024128\n",
            "epoch: 300 loss: 0.008868\n",
            "epoch: 400 loss: 0.003202\n",
            "epoch: 500 loss: 0.001567\n",
            "epoch: 600 loss: 0.000880\n",
            "epoch: 700 loss: 0.000505\n",
            "epoch: 800 loss: 0.000306\n",
            "epoch: 900 loss: 0.000224\n"
          ],
          "name": "stdout"
        }
      ]
    },
    {
      "cell_type": "code",
      "metadata": {
        "id": "d2pSNjRX65Ac",
        "colab": {
          "base_uri": "https://localhost:8080/",
          "height": 265
        },
        "outputId": "a607c374-c88f-4133-f1fb-dd7320ce18aa"
      },
      "source": [
        "import matplotlib.pyplot as plt\n",
        "\n",
        "#plt.plot(inputs, (3/2)*np.exp(inputs**2) - (1/2), label='exact')\n",
        "plt.plot(inputs, np.exp(-inputs**2), label='exact')\n",
        "plt.plot(inputs, f_vect(params, inputs), label='approx')\n",
        "plt.legend()\n",
        "plt.show()"
      ],
      "execution_count": null,
      "outputs": [
        {
          "output_type": "display_data",
          "data": {
            "image/png": "[encoded data removed]",
            "text/plain": [
              "<Figure size 432x288 with 1 Axes>"
            ]
          },
          "metadata": {
            "tags": [],
            "needs_background": "light"
          }
        }
      ]
    },
    {
      "cell_type": "code",
      "metadata": {
        "id": "VJdFRKZ_7Bh4",
        "colab": {
          "base_uri": "https://localhost:8080/",
          "height": 265
        },
        "outputId": "6f8f7027-a8b8-42df-f139-9f14c12ffa0d"
      },
      "source": [
        "plt.plot(inputs, np.exp(-inputs**2), label='exact')\n",
        "plt.show()"
      ],
      "execution_count": null,
      "outputs": [
        {
          "output_type": "display_data",
          "data": {
            "image/png": "[encoded data removed]",
            "text/plain": [
              "<Figure size 432x288 with 1 Axes>"
            ]
          },
          "metadata": {
            "tags": [],
            "needs_background": "light"
          }
        }
      ]
    },
    {
      "cell_type": "code",
      "metadata": {
        "id": "pTVdaZBg-N9w"
      },
      "source": [
        ""
      ],
      "execution_count": null,
      "outputs": []
    }
  ]
}