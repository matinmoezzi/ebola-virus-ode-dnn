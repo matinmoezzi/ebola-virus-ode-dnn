{
  "nbformat": 4,
  "nbformat_minor": 0,
  "metadata": {
    "colab": {
      "name": "ebola_parameters.ipynb",
      "private_outputs": true,
      "provenance": [],
      "authorship_tag": "ABX9TyPi1KvYUJSVBxXFmfg2Qtr3",
      "include_colab_link": true
    },
    "kernelspec": {
      "name": "python3",
      "display_name": "Python 3"
    }
  },
  "cells": [
    {
      "cell_type": "markdown",
      "metadata": {
        "id": "view-in-github",
        "colab_type": "text"
      },
      "source": [
        "<a href=\"https://colab.research.google.com/github/matinmoezzi/ebola-virus-ode-dnn/blob/main/ebola_parameters.ipynb\" target=\"_parent\"><img src=\"https://colab.research.google.com/assets/colab-badge.svg\" alt=\"Open In Colab\"/></a>"
      ]
    },
    {
      "cell_type": "code",
      "metadata": {
        "id": "jG9-oRPontKp"
      },
      "source": [
        "lmbda = 0.6321\n",
        "mu = 0.9704\n",
        "beta1, beta2, beta3, beta4, beta5, beta6, beta7, beta8, beta9, beta10, beta11 = 0.2877, 0.7613, 0.4389, 0.1234, 0.2431, 0.4000, 0.3000, 0.2345, 0.3312, 0.4123, 0.5111\n",
        "mu1, mu2, mu3, mu4, mu5, mu6 = 0.0432, 0.2006, 0.0656, 0.9764, 0.6704, 0.0286"
      ],
      "execution_count": null,
      "outputs": []
    },
    {
      "cell_type": "code",
      "metadata": {
        "id": "F6otuLIGoFqa"
      },
      "source": [
        "Q=beta1 + beta4 + beta6\n",
        "R=beta5 + beta7\n",
        "M=(1/beta1)*(mu1+mu2)\n",
        "N=lmbda*(beta5 + beta7)\n",
        "P=beta2\n",
        "p=mu+beta8\n",
        "T=beta10*(mu1+mu2)/(beta2*beta9)\n",
        "U=lmbda*beta10*(beta1+beta4+beta6)\n",
        "J=beta2*beta9\n",
        "j=mu + beta8\n",
        "k=beta10/beta9\n",
        "A=(beta2*(mu6+beta11)+beta9*(beta3+mu3+mu4)-beta10*(mu1+mu2))*(mu1+mu2)\n",
        "a=mu+beta8\n",
        "B=lmbda**2*(beta1+beta4+beta6)*(beta9*(beta5+beta7)-beta10*(beta1+beta4+beta6))\n",
        "C=lmbda*(-1*beta9*beta2*beta8-beta9*(mu1+mu2)*(beta5+beta7)+(beta1+beta4+beta6)*(2*beta10*(mu1+mu2)-2*beta2*(mu6+beta11)-beta9*(mu6+beta11)))\n",
        "c=mu+beta8\n",
        "F=beta2*(beta10*(mu1+mu2)-beta2*(mu6+beta11)-beta9*(beta3+mu3+mu4))\n",
        "f=mu+beta8\n",
        "G=lmbda*beta2*(beta9*(beta5+beta7)-beta10*(beta1+beta4+beta6))\n",
        "g=mu+beta8"
      ],
      "execution_count": null,
      "outputs": []
    },
    {
      "cell_type": "code",
      "metadata": {
        "id": "wY4IT1xMpnBZ"
      },
      "source": [
        "print(f\"Q: {round(Q,4)}\")\n",
        "print(f\"R: {round(R,4)}\")\n",
        "print(f\"M: {round(M,4)}\")\n",
        "print(f\"N: {round(N,4)}\")\n",
        "print(f\"P: {round(P,4)}\")\n",
        "print(f\"p: {round(p,4)}\")\n",
        "print(f\"T: {round(T,4)}\")\n",
        "print(f\"U: {round(U,4)}\")\n",
        "print(f\"J: {round(J,4)}\")\n",
        "print(f\"j: {round(j,4)}\")\n",
        "print(f\"k: {round(k,4)}\")\n",
        "print(f\"A: {round(A,4)}\")\n",
        "print(f\"a: {round(a,4)}\")\n",
        "print(f\"B: {round(B,4)}\")\n",
        "print(f\"C: {round(C,4)}\")\n",
        "print(f\"c: {round(c,4)}\")\n",
        "print(f\"F: {round(F,4)}\")\n",
        "print(f\"f: {round(f,4)}\")\n",
        "print(f\"G: {round(G,4)}\")\n",
        "print(f\"g: {round(g,4)}\")\n",
        "print(f\"QM: {round(Q*M,4)}\")\n",
        "print(f\"QN: {round(Q*N,4)}\")\n",
        "print(f\"QT: {round(Q*T,4)}\")\n",
        "print(f\"QU: {round(Q*U,4)}\")\n",
        "print(f\"R-Qk: {round(R-Q*k,4)}\")"
      ],
      "execution_count": null,
      "outputs": []
    },
    {
      "cell_type": "code",
      "metadata": {
        "id": "ZzKNCg8-v0U4"
      },
      "source": [
        "from scipy import optimize"
      ],
      "execution_count": null,
      "outputs": []
    },
    {
      "cell_type": "code",
      "metadata": {
        "id": "xUiBMdp_v99e"
      },
      "source": [
        "def func(x):\n",
        "  return x-Q*M + Q*N/(P*(x+p)) + Q*T - Q*U/(J*(x+j)) - (R - Q * k)*(A * (x + a)**2 + B + C * (x + c)) / (F * (x + f)**2 + G*(x + g))"
      ],
      "execution_count": null,
      "outputs": []
    },
    {
      "cell_type": "code",
      "metadata": {
        "id": "dqLliw7Axh71"
      },
      "source": [
        "def fprime(x):\n",
        "  return 1 - Q*N/(P*(x+p)**2) + Q*U/(J*(x+j)**2) - (R-Q*k)*((2*A*(x+a)+C)*(F*(x+f)**2+G*(x+g))+((2*F*(x+f)+G)*(A*(x+a)**2+B+C*(x+c))))/(F*(x+f)**2+G*(x+g))**2"
      ],
      "execution_count": null,
      "outputs": []
    },
    {
      "cell_type": "code",
      "metadata": {
        "id": "hG5oaUx-wl7V"
      },
      "source": [
        "sol=optimize.root_scalar(func,fprime=fprime, x0=0, method='newton')\n",
        "print(sol.root)"
      ],
      "execution_count": null,
      "outputs": []
    },
    {
      "cell_type": "code",
      "metadata": {
        "id": "jjruQXoxC9AY"
      },
      "source": [
        "!pip install neurodiffeq"
      ],
      "execution_count": null,
      "outputs": []
    },
    {
      "cell_type": "code",
      "metadata": {
        "id": "ZsdKm7pFa7bv"
      },
      "source": [
        "from neurodiffeq import diff\n",
        "from neurodiffeq.conditions import IVP\n",
        "from neurodiffeq.monitors import Monitor1D\n",
        "from neurodiffeq.solvers import Solver1D\n",
        "from neurodiffeq.callbacks import MonitorCallback\n",
        "from neurodiffeq.networks import FCNN\n",
        "import matplotlib.pyplot as plt\n",
        "import torch.nn as nn\n",
        "import numpy as np\n",
        "import torch"
      ],
      "execution_count": null,
      "outputs": []
    },
    {
      "cell_type": "code",
      "metadata": {
        "id": "m3gSP18za-Xo"
      },
      "source": [
        "def system_ode(u1, u2, t): return [diff(u1, t) - torch.cos(t) - u1**2 - u2 + (1 + t**2 + torch.sin(t)**2),\n",
        "                                   diff(u2, t) - 2*t + (1 + t**2)*torch.sin(t) - u1*u2]"
      ],
      "execution_count": null,
      "outputs": []
    },
    {
      "cell_type": "code",
      "metadata": {
        "id": "Dfl7WYoubAJJ"
      },
      "source": [
        "# specify the initial conditions\n",
        "init_vals_pc = [\n",
        "    IVP(t_0=0.0, u_0=0.0),\n",
        "    IVP(t_0=0.0, u_0=1.0)\n",
        "]"
      ],
      "execution_count": null,
      "outputs": []
    },
    {
      "cell_type": "code",
      "metadata": {
        "id": "IytfqdDabBmC"
      },
      "source": [
        "monitor = Monitor1D(t_min=0, t_max=3.0, check_every=100)\n",
        "monitor_callback = MonitorCallback(monitor)\n",
        "\n",
        "nets_lv = [\n",
        "    FCNN(n_input_units=1, n_output_units=1,\n",
        "         n_hidden_units=10, actv=nn.Sigmoid),\n",
        "    FCNN(n_input_units=1, n_output_units=1, n_hidden_units=10, actv=nn.Sigmoid)\n",
        "]\n",
        "\n",
        "# solve the ODE system\n",
        "solver = Solver1D(\n",
        "    ode_system=system_ode, conditions=init_vals_pc, t_min=0.0, t_max=3.0, nets=nets_lv\n",
        ")"
      ],
      "execution_count": null,
      "outputs": []
    },
    {
      "cell_type": "code",
      "metadata": {
        "id": "IxlkE4-9bEHr"
      },
      "source": [
        "solver.fit(max_epochs=10000, callbacks=[monitor_callback])\n",
        "solution_pc = solver.get_solution()"
      ],
      "execution_count": null,
      "outputs": []
    },
    {
      "cell_type": "code",
      "metadata": {
        "id": "SN09VUgNbIZr"
      },
      "source": [
        "ts = np.linspace(0, 3.0, 300)\n",
        "u1_net, u2_net = solution_pc(ts, to_numpy=True)\n",
        "u1_ana, u2_ana = np.sin(ts), 1 + ts**2\n",
        "\n",
        "plt.figure()\n",
        "plt.plot(ts, u1_net, label='ANN-based solution of $u_1$')\n",
        "plt.plot(ts, u1_ana, label='Analytical solution of $u_1$')\n",
        "plt.plot(ts, u2_net, label='ANN-based solution of $u_2$')\n",
        "plt.plot(ts, u2_ana, label='Analytical solution of $u_2$')\n",
        "plt.ylabel('u')\n",
        "plt.xlabel('t')\n",
        "plt.title('comparing solutions')\n",
        "plt.legend()\n",
        "plt.show()"
      ],
      "execution_count": null,
      "outputs": []
    },
    {
      "cell_type": "code",
      "metadata": {
        "id": "viyWbUCpbVmg"
      },
      "source": [
        ""
      ],
      "execution_count": null,
      "outputs": []
    }
  ]
}